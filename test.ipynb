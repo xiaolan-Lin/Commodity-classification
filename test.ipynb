{
 "cells": [
  {
   "cell_type": "code",
   "execution_count": 15,
   "metadata": {
    "collapsed": true,
    "pycharm": {
     "is_executing": false
    }
   },
   "outputs": [
    {
     "data": {
      "text/plain": "                                            ITEM_NAME               TYPE\n0                     腾讯QQ黄钻三个月QQ黄钻3个月季卡官方自动充值可查时间可续费   本地生活--游戏充值--QQ充值\n1                            腾讯q币充值30元qq币30qb30q币自动充值   本地生活--游戏充值--QQ充值\n2                            腾讯QQ红钻包月卡 QQ红钻一个月QQ红钻1个月   本地生活--游戏充值--QQ充值\n3                                      腾讯QQ蓝钻贵族31个月直充   本地生活--游戏充值--QQ充值\n4        腾讯QQ币148元148QQ币148个直充148Q币148个Q币148个QQB★自动充值   本地生活--游戏充值--QQ充值\n...                                               ...                ...\n499442                         千琢和田玉观音吊坠 如意玉观音男 附鉴定证书  珠宝饰品--翡翠玉石--项链/吊坠\n499443  润玺 手工编织挂绳 翡翠玉器吊坠绳 玉佩项链绳子 珠链 男女款 长度可调节 6MM 黑曜石  珠宝饰品--翡翠玉石--项链/吊坠\n499444              福窝窝珠宝 白玉平安无事牌 18K玫瑰金镶玉玉佩 男女款玉坠带证书  珠宝饰品--翡翠玉石--项链/吊坠\n499445              福窝窝 和田玉生肖玉坠男女款吊坠和田白玉挂件玉石珠宝 骏马奔腾-马  珠宝饰品--翡翠玉石--项链/吊坠\n499446                 玉岳珠宝 冰种蚕丝玉手镯玉镯子玉石玉器白玉手镯 附证书 61  珠宝饰品--翡翠玉石--项链/吊坠\n\n[499447 rows x 2 columns]",
      "text/html": "<div>\n<style scoped>\n    .dataframe tbody tr th:only-of-type {\n        vertical-align: middle;\n    }\n\n    .dataframe tbody tr th {\n        vertical-align: top;\n    }\n\n    .dataframe thead th {\n        text-align: right;\n    }\n</style>\n<table border=\"1\" class=\"dataframe\">\n  <thead>\n    <tr style=\"text-align: right;\">\n      <th></th>\n      <th>ITEM_NAME</th>\n      <th>TYPE</th>\n    </tr>\n  </thead>\n  <tbody>\n    <tr>\n      <th>0</th>\n      <td>腾讯QQ黄钻三个月QQ黄钻3个月季卡官方自动充值可查时间可续费</td>\n      <td>本地生活--游戏充值--QQ充值</td>\n    </tr>\n    <tr>\n      <th>1</th>\n      <td>腾讯q币充值30元qq币30qb30q币自动充值</td>\n      <td>本地生活--游戏充值--QQ充值</td>\n    </tr>\n    <tr>\n      <th>2</th>\n      <td>腾讯QQ红钻包月卡 QQ红钻一个月QQ红钻1个月</td>\n      <td>本地生活--游戏充值--QQ充值</td>\n    </tr>\n    <tr>\n      <th>3</th>\n      <td>腾讯QQ蓝钻贵族31个月直充</td>\n      <td>本地生活--游戏充值--QQ充值</td>\n    </tr>\n    <tr>\n      <th>4</th>\n      <td>腾讯QQ币148元148QQ币148个直充148Q币148个Q币148个QQB★自动充值</td>\n      <td>本地生活--游戏充值--QQ充值</td>\n    </tr>\n    <tr>\n      <th>...</th>\n      <td>...</td>\n      <td>...</td>\n    </tr>\n    <tr>\n      <th>499442</th>\n      <td>千琢和田玉观音吊坠 如意玉观音男 附鉴定证书</td>\n      <td>珠宝饰品--翡翠玉石--项链/吊坠</td>\n    </tr>\n    <tr>\n      <th>499443</th>\n      <td>润玺 手工编织挂绳 翡翠玉器吊坠绳 玉佩项链绳子 珠链 男女款 长度可调节 6MM 黑曜石</td>\n      <td>珠宝饰品--翡翠玉石--项链/吊坠</td>\n    </tr>\n    <tr>\n      <th>499444</th>\n      <td>福窝窝珠宝 白玉平安无事牌 18K玫瑰金镶玉玉佩 男女款玉坠带证书</td>\n      <td>珠宝饰品--翡翠玉石--项链/吊坠</td>\n    </tr>\n    <tr>\n      <th>499445</th>\n      <td>福窝窝 和田玉生肖玉坠男女款吊坠和田白玉挂件玉石珠宝 骏马奔腾-马</td>\n      <td>珠宝饰品--翡翠玉石--项链/吊坠</td>\n    </tr>\n    <tr>\n      <th>499446</th>\n      <td>玉岳珠宝 冰种蚕丝玉手镯玉镯子玉石玉器白玉手镯 附证书 61</td>\n      <td>珠宝饰品--翡翠玉石--项链/吊坠</td>\n    </tr>\n  </tbody>\n</table>\n<p>499447 rows × 2 columns</p>\n</div>"
     },
     "metadata": {},
     "output_type": "execute_result",
     "execution_count": 15
    }
   ],
   "source": [
    "import pandas as pd\n",
    "commodity = pd.read_csv(\"/home/master/pythonProject/Commodity-classfication/data/train.tsv\", sep='\\t')\n",
    "commodity"
   ]
  },
  {
   "cell_type": "code",
   "execution_count": 16,
   "outputs": [
    {
     "data": {
      "text/plain": "服饰鞋帽--男鞋--休闲鞋        26835\n手机数码--手机配件--手机保护套    24824\n家居家装--家纺--床品套件       17244\n汽配用品--汽车装饰--车身装饰件    14657\n钟表礼品--礼品--工艺礼品       14546\n                     ...  \n音乐影视--电影--爱情/偶像         11\n汽配用品--安全自驾--储物箱         11\n音乐影视--民歌民乐--民歌          11\n图书杂志--动漫--轻小说           11\n图书杂志--艺术--影视             2\nName: TYPE, Length: 1252, dtype: int64"
     },
     "metadata": {},
     "output_type": "execute_result",
     "execution_count": 16
    }
   ],
   "source": [
    "commodity['TYPE'].value_counts()\n",
    "\n"
   ],
   "metadata": {
    "collapsed": false,
    "pycharm": {
     "name": "#%%\n",
     "is_executing": false
    }
   }
  }
 ],
 "metadata": {
  "kernelspec": {
   "display_name": "Python 3",
   "language": "python",
   "name": "python3"
  },
  "language_info": {
   "codemirror_mode": {
    "name": "ipython",
    "version": 2
   },
   "file_extension": ".py",
   "mimetype": "text/x-python",
   "name": "python",
   "nbconvert_exporter": "python",
   "pygments_lexer": "ipython2",
   "version": "2.7.6"
  },
  "pycharm": {
   "stem_cell": {
    "cell_type": "raw",
    "source": [],
    "metadata": {
     "collapsed": false
    }
   }
  }
 },
 "nbformat": 4,
 "nbformat_minor": 0
}